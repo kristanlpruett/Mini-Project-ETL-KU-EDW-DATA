{
 "cells": [
  {
   "cell_type": "code",
   "execution_count": 1,
   "metadata": {},
   "outputs": [],
   "source": [
    "import pandas as pd\n",
    "from sqlalchemy import create_engine"
   ]
  },
  {
   "cell_type": "code",
   "execution_count": 2,
   "metadata": {},
   "outputs": [],
   "source": [
    "hotel_file = 'resources/Datafiniti_Hotel_Reviews.csv'\n",
    "michelin_one = 'resources/one-star-michelin-restaurants.csv'\n",
    "michelin_two = 'resources/two-stars-michelin-restaurants.csv'\n",
    "michelin_three = 'resources/three-stars-michelin-restaurants.csv'"
   ]
  },
  {
   "cell_type": "code",
   "execution_count": 3,
   "metadata": {},
   "outputs": [
    {
     "data": {
      "text/html": [
       "<div>\n",
       "<style scoped>\n",
       "    .dataframe tbody tr th:only-of-type {\n",
       "        vertical-align: middle;\n",
       "    }\n",
       "\n",
       "    .dataframe tbody tr th {\n",
       "        vertical-align: top;\n",
       "    }\n",
       "\n",
       "    .dataframe thead th {\n",
       "        text-align: right;\n",
       "    }\n",
       "</style>\n",
       "<table border=\"1\" class=\"dataframe\">\n",
       "  <thead>\n",
       "    <tr style=\"text-align: right;\">\n",
       "      <th></th>\n",
       "      <th>address</th>\n",
       "      <th>city</th>\n",
       "      <th>country</th>\n",
       "      <th>name</th>\n",
       "      <th>postalcode</th>\n",
       "      <th>province</th>\n",
       "      <th>user_rating</th>\n",
       "      <th>user_review</th>\n",
       "      <th>review_title</th>\n",
       "      <th>websites</th>\n",
       "      <th>average_rating</th>\n",
       "    </tr>\n",
       "  </thead>\n",
       "  <tbody>\n",
       "    <tr>\n",
       "      <th>0</th>\n",
       "      <td>5921 Valencia Cir</td>\n",
       "      <td>Rancho Santa Fe</td>\n",
       "      <td>US</td>\n",
       "      <td>Rancho Valencia Resort Spa</td>\n",
       "      <td>92067</td>\n",
       "      <td>CA</td>\n",
       "      <td>5.0</td>\n",
       "      <td>Our experience at Rancho Valencia was absolute...</td>\n",
       "      <td>Best romantic vacation ever!!!!</td>\n",
       "      <td>http://www.ranchovalencia.com</td>\n",
       "      <td>5.00</td>\n",
       "    </tr>\n",
       "    <tr>\n",
       "      <th>1</th>\n",
       "      <td>5921 Valencia Cir</td>\n",
       "      <td>Rancho Santa Fe</td>\n",
       "      <td>US</td>\n",
       "      <td>Rancho Valencia Resort Spa</td>\n",
       "      <td>92067</td>\n",
       "      <td>CA</td>\n",
       "      <td>5.0</td>\n",
       "      <td>Amazing place. Everyone was extremely warm and...</td>\n",
       "      <td>Sweet sweet serenity</td>\n",
       "      <td>http://www.ranchovalencia.com</td>\n",
       "      <td>5.00</td>\n",
       "    </tr>\n",
       "    <tr>\n",
       "      <th>2</th>\n",
       "      <td>5921 Valencia Cir</td>\n",
       "      <td>Rancho Santa Fe</td>\n",
       "      <td>US</td>\n",
       "      <td>Rancho Valencia Resort Spa</td>\n",
       "      <td>92067</td>\n",
       "      <td>CA</td>\n",
       "      <td>5.0</td>\n",
       "      <td>We booked a 3 night stay at Rancho Valencia to...</td>\n",
       "      <td>Amazing Property and Experience</td>\n",
       "      <td>http://www.ranchovalencia.com</td>\n",
       "      <td>5.00</td>\n",
       "    </tr>\n",
       "    <tr>\n",
       "      <th>3</th>\n",
       "      <td>12 4th St</td>\n",
       "      <td>San Francisco</td>\n",
       "      <td>US</td>\n",
       "      <td>Hotel Zelos</td>\n",
       "      <td>94103</td>\n",
       "      <td>CA</td>\n",
       "      <td>5.0</td>\n",
       "      <td>The hotel is just one of many that are on this...</td>\n",
       "      <td>Convenient, cute and moderately comfrotable</td>\n",
       "      <td>http://www.hotelzelos.com</td>\n",
       "      <td>4.25</td>\n",
       "    </tr>\n",
       "    <tr>\n",
       "      <th>4</th>\n",
       "      <td>12 4th St</td>\n",
       "      <td>San Francisco</td>\n",
       "      <td>US</td>\n",
       "      <td>Hotel Zelos</td>\n",
       "      <td>94103</td>\n",
       "      <td>CA</td>\n",
       "      <td>4.0</td>\n",
       "      <td>excellent location near convention center. fri...</td>\n",
       "      <td>Perfectly fine hotel for a visit to SF</td>\n",
       "      <td>http://www.hotelzelos.com</td>\n",
       "      <td>4.25</td>\n",
       "    </tr>\n",
       "  </tbody>\n",
       "</table>\n",
       "</div>"
      ],
      "text/plain": [
       "             address             city country                        name  \\\n",
       "0  5921 Valencia Cir  Rancho Santa Fe      US  Rancho Valencia Resort Spa   \n",
       "1  5921 Valencia Cir  Rancho Santa Fe      US  Rancho Valencia Resort Spa   \n",
       "2  5921 Valencia Cir  Rancho Santa Fe      US  Rancho Valencia Resort Spa   \n",
       "3          12 4th St    San Francisco      US                 Hotel Zelos   \n",
       "4          12 4th St    San Francisco      US                 Hotel Zelos   \n",
       "\n",
       "  postalcode province  user_rating  \\\n",
       "0      92067       CA          5.0   \n",
       "1      92067       CA          5.0   \n",
       "2      92067       CA          5.0   \n",
       "3      94103       CA          5.0   \n",
       "4      94103       CA          4.0   \n",
       "\n",
       "                                         user_review  \\\n",
       "0  Our experience at Rancho Valencia was absolute...   \n",
       "1  Amazing place. Everyone was extremely warm and...   \n",
       "2  We booked a 3 night stay at Rancho Valencia to...   \n",
       "3  The hotel is just one of many that are on this...   \n",
       "4  excellent location near convention center. fri...   \n",
       "\n",
       "                                  review_title                       websites  \\\n",
       "0              Best romantic vacation ever!!!!  http://www.ranchovalencia.com   \n",
       "1                         Sweet sweet serenity  http://www.ranchovalencia.com   \n",
       "2              Amazing Property and Experience  http://www.ranchovalencia.com   \n",
       "3  Convenient, cute and moderately comfrotable      http://www.hotelzelos.com   \n",
       "4       Perfectly fine hotel for a visit to SF      http://www.hotelzelos.com   \n",
       "\n",
       "  average_rating  \n",
       "0           5.00  \n",
       "1           5.00  \n",
       "2           5.00  \n",
       "3           4.25  \n",
       "4           4.25  "
      ]
     },
     "execution_count": 3,
     "metadata": {},
     "output_type": "execute_result"
    }
   ],
   "source": [
    "hotel_data = pd.read_csv(hotel_file)\n",
    "hotel_data.head(1)\n",
    "\n",
    "hotel_df = pd.DataFrame(hotel_data)\n",
    "hotel_df = hotel_df[\n",
    "    [\n",
    "        'address',\n",
    "        'city',\n",
    "        'country',\n",
    "        'name',\n",
    "        'postalCode',\n",
    "        'province',\n",
    "        'reviews.rating',\n",
    "        'reviews.text',\n",
    "        'reviews.title','websites'\n",
    "    ]]\n",
    "hotel_df.head()\n",
    "\n",
    "hotel_means = pd.DataFrame(hotel_df.groupby('name')['reviews.rating'].mean())\n",
    "\n",
    "hotel_df = pd.merge(hotel_df, hotel_means, on='name')\n",
    "hotel_df.head()\n",
    "hotel_df = hotel_df.rename(columns={\n",
    "    'postalCode': 'postalcode',\n",
    "    'reviews.rating_x': 'user_rating',\n",
    "    'reviews.rating_y': 'average_rating',\n",
    "    'reviews.text': 'user_review',\n",
    "    'reviews.title': 'review_title'})\n",
    "hotel_df = hotel_df.loc[(hotel_df['province']=='CA')]\n",
    "hotel_df['average_rating'] = hotel_df['average_rating'].astype(float).map(\"{:.2f}\".format)\n",
    "hotel_df = hotel_df.reset_index(drop=True)\n",
    "hotel_df.head()\n"
   ]
  },
  {
   "cell_type": "code",
   "execution_count": 4,
   "metadata": {},
   "outputs": [
    {
     "data": {
      "text/html": [
       "<div>\n",
       "<style scoped>\n",
       "    .dataframe tbody tr th:only-of-type {\n",
       "        vertical-align: middle;\n",
       "    }\n",
       "\n",
       "    .dataframe tbody tr th {\n",
       "        vertical-align: top;\n",
       "    }\n",
       "\n",
       "    .dataframe thead th {\n",
       "        text-align: right;\n",
       "    }\n",
       "</style>\n",
       "<table border=\"1\" class=\"dataframe\">\n",
       "  <thead>\n",
       "    <tr style=\"text-align: right;\">\n",
       "      <th></th>\n",
       "      <th>address</th>\n",
       "      <th>city</th>\n",
       "      <th>country</th>\n",
       "      <th>name</th>\n",
       "      <th>postalcode</th>\n",
       "      <th>province</th>\n",
       "      <th>websites</th>\n",
       "      <th>average_rating</th>\n",
       "    </tr>\n",
       "  </thead>\n",
       "  <tbody>\n",
       "    <tr>\n",
       "      <th>0</th>\n",
       "      <td>5921 Valencia Cir</td>\n",
       "      <td>Rancho Santa Fe</td>\n",
       "      <td>US</td>\n",
       "      <td>Rancho Valencia Resort Spa</td>\n",
       "      <td>92067</td>\n",
       "      <td>CA</td>\n",
       "      <td>http://www.ranchovalencia.com</td>\n",
       "      <td>5.00</td>\n",
       "    </tr>\n",
       "    <tr>\n",
       "      <th>1</th>\n",
       "      <td>12 4th St</td>\n",
       "      <td>San Francisco</td>\n",
       "      <td>US</td>\n",
       "      <td>Hotel Zelos</td>\n",
       "      <td>94103</td>\n",
       "      <td>CA</td>\n",
       "      <td>http://www.hotelzelos.com</td>\n",
       "      <td>4.25</td>\n",
       "    </tr>\n",
       "    <tr>\n",
       "      <th>2</th>\n",
       "      <td>5300 Grand del Mar Ct</td>\n",
       "      <td>San Diego</td>\n",
       "      <td>US</td>\n",
       "      <td>Fairmont Grand Del Mar</td>\n",
       "      <td>92130</td>\n",
       "      <td>CA</td>\n",
       "      <td>http://www.fairmont.com/san-diego/</td>\n",
       "      <td>4.88</td>\n",
       "    </tr>\n",
       "    <tr>\n",
       "      <th>3</th>\n",
       "      <td>328 East 1st Street</td>\n",
       "      <td>Los Angeles</td>\n",
       "      <td>US</td>\n",
       "      <td>Miyako Hotel Los Angeles</td>\n",
       "      <td>90012</td>\n",
       "      <td>CA</td>\n",
       "      <td>http://www.miyakoinn.com</td>\n",
       "      <td>4.47</td>\n",
       "    </tr>\n",
       "    <tr>\n",
       "      <th>4</th>\n",
       "      <td>225 North Canon Drive</td>\n",
       "      <td>Beverly Hills</td>\n",
       "      <td>US</td>\n",
       "      <td>Montage Beverly Hills</td>\n",
       "      <td>90210</td>\n",
       "      <td>CA</td>\n",
       "      <td>http://www.montagehotels.com/beverlyhills</td>\n",
       "      <td>4.02</td>\n",
       "    </tr>\n",
       "  </tbody>\n",
       "</table>\n",
       "</div>"
      ],
      "text/plain": [
       "                 address             city country                        name  \\\n",
       "0      5921 Valencia Cir  Rancho Santa Fe      US  Rancho Valencia Resort Spa   \n",
       "1              12 4th St    San Francisco      US                 Hotel Zelos   \n",
       "2  5300 Grand del Mar Ct        San Diego      US      Fairmont Grand Del Mar   \n",
       "3    328 East 1st Street      Los Angeles      US    Miyako Hotel Los Angeles   \n",
       "4  225 North Canon Drive    Beverly Hills      US       Montage Beverly Hills   \n",
       "\n",
       "  postalcode province                                   websites  \\\n",
       "0      92067       CA              http://www.ranchovalencia.com   \n",
       "1      94103       CA                  http://www.hotelzelos.com   \n",
       "2      92130       CA         http://www.fairmont.com/san-diego/   \n",
       "3      90012       CA                   http://www.miyakoinn.com   \n",
       "4      90210       CA  http://www.montagehotels.com/beverlyhills   \n",
       "\n",
       "  average_rating  \n",
       "0           5.00  \n",
       "1           4.25  \n",
       "2           4.88  \n",
       "3           4.47  \n",
       "4           4.02  "
      ]
     },
     "execution_count": 4,
     "metadata": {},
     "output_type": "execute_result"
    }
   ],
   "source": [
    "hotel_data = pd.read_csv(hotel_file)\n",
    "hotel_data.head(1)\n",
    "\n",
    "hotel_df2 = pd.DataFrame(hotel_data)\n",
    "hotel_df2 = hotel_df2[\n",
    "    [\n",
    "        'address',\n",
    "        'city',\n",
    "        'country',\n",
    "        'name',\n",
    "        'postalCode',\n",
    "        'province',\n",
    "        'reviews.rating',\n",
    "        'websites'\n",
    "    ]]\n",
    "hotel_df2.head()\n",
    "\n",
    "hotel_means = pd.DataFrame(hotel_df2.groupby('name')['reviews.rating'].mean())\n",
    "\n",
    "hotel_df2 = pd.merge(hotel_df2, hotel_means, on='name')\n",
    "hotel_df2.head()\n",
    "hotel_df2 = hotel_df2.rename(columns={\n",
    "    'postalCode': 'postalcode',\n",
    "    'reviews.rating_x': 'user_rating',\n",
    "    'reviews.rating_y': 'average_rating',})\n",
    "hotel_df2 = hotel_df2[[\n",
    "        'address',\n",
    "        'city',\n",
    "        'country',\n",
    "        'name',\n",
    "        'postalcode',\n",
    "        'province',\n",
    "        'websites',\n",
    "        'average_rating']]\n",
    "hotel_df2 = hotel_df2.loc[(hotel_df2['province']=='CA')]\n",
    "hotel_df2['average_rating'] = hotel_df2['average_rating'].astype(float).map(\"{:.2f}\".format)\n",
    "\n",
    "hotel_df2 = hotel_df2.drop_duplicates(subset=['name'])\n",
    "hotel_df2 = hotel_df2.reset_index(drop=True)\n",
    "hotel_df2.head()"
   ]
  },
  {
   "cell_type": "code",
   "execution_count": 5,
   "metadata": {
    "scrolled": true
   },
   "outputs": [
    {
     "data": {
      "text/plain": [
       "Index(['name', 'city', 'region', 'postalcode', 'cuisine', 'price', 'url'], dtype='object')"
      ]
     },
     "execution_count": 5,
     "metadata": {},
     "output_type": "execute_result"
    }
   ],
   "source": [
    "one_data = pd.read_csv(michelin_one).dropna()\n",
    "one_df = pd.DataFrame(one_data)\n",
    "one_df = one_df[\n",
    "    ['name', 'city', 'region', 'zipCode',\n",
    "       'cuisine', 'price', 'url']\n",
    "]\n",
    "one_df = one_df.rename(columns={'zipCode': 'postalcode'})\n",
    "one_df = one_df.loc[(one_df['region']=='California')]\n",
    "one_df.columns"
   ]
  },
  {
   "cell_type": "code",
   "execution_count": 6,
   "metadata": {},
   "outputs": [
    {
     "data": {
      "text/plain": [
       "13"
      ]
     },
     "execution_count": 6,
     "metadata": {},
     "output_type": "execute_result"
    }
   ],
   "source": [
    "two_data = pd.read_csv(michelin_two).dropna()\n",
    "two_df = pd.DataFrame(two_data)\n",
    "two_df = two_df[\n",
    "    ['name', 'city', 'region', 'zipCode',\n",
    "       'cuisine', 'price', 'url']\n",
    "]\n",
    "two_df = two_df.rename(columns={'zipCode': 'postalcode'})\n",
    "two_df = two_df.loc[(two_df['region']=='California')]\n",
    "len(two_df)"
   ]
  },
  {
   "cell_type": "code",
   "execution_count": 7,
   "metadata": {},
   "outputs": [
    {
     "data": {
      "text/plain": [
       "7"
      ]
     },
     "execution_count": 7,
     "metadata": {},
     "output_type": "execute_result"
    }
   ],
   "source": [
    "three_data = pd.read_csv(michelin_three).dropna()\n",
    "three_df = pd.DataFrame(three_data)\n",
    "three_df = three_df[\n",
    "    ['name', 'city', 'region', 'zipCode',\n",
    "       'cuisine', 'price', 'url']\n",
    "]\n",
    "three_df = three_df.rename(columns={'zipCode': 'postalcode'})\n",
    "three_df = three_df.loc[(three_df['region']=='California')]\n",
    "len(three_df)"
   ]
  },
  {
   "cell_type": "code",
   "execution_count": 8,
   "metadata": {},
   "outputs": [],
   "source": [
    "connection_string = \"postgres:postgres@localhost:5432/project2_db\"\n",
    "engine = create_engine(f'postgresql://{connection_string}')"
   ]
  },
  {
   "cell_type": "code",
   "execution_count": 9,
   "metadata": {},
   "outputs": [
    {
     "data": {
      "text/plain": [
       "['hotels_nodupes', 'hotels', 'one_star', 'two_star', 'three_star']"
      ]
     },
     "execution_count": 9,
     "metadata": {},
     "output_type": "execute_result"
    }
   ],
   "source": [
    "engine.table_names()"
   ]
  },
  {
   "cell_type": "code",
   "execution_count": 10,
   "metadata": {},
   "outputs": [],
   "source": [
    "hotel_df.to_sql(name = 'hotels', con=engine, if_exists='append', index=False)"
   ]
  },
  {
   "cell_type": "code",
   "execution_count": 11,
   "metadata": {},
   "outputs": [],
   "source": [
    "one_df.to_sql(name = 'one_star', con=engine, if_exists='append', index=False)"
   ]
  },
  {
   "cell_type": "code",
   "execution_count": 12,
   "metadata": {},
   "outputs": [],
   "source": [
    "two_df.to_sql(name = 'two_star', con=engine, if_exists='append', index=False)"
   ]
  },
  {
   "cell_type": "code",
   "execution_count": 13,
   "metadata": {},
   "outputs": [],
   "source": [
    "three_df.to_sql(name = 'three_star', con=engine, if_exists='append', index=False)"
   ]
  },
  {
   "cell_type": "code",
   "execution_count": 14,
   "metadata": {},
   "outputs": [],
   "source": [
    "hotel_df2.to_sql(name = 'hotels_nodupes', con=engine, if_exists='append', index=False)"
   ]
  },
  {
   "cell_type": "code",
   "execution_count": null,
   "metadata": {},
   "outputs": [],
   "source": []
  }
 ],
 "metadata": {
  "kernelspec": {
   "display_name": "Python 3",
   "language": "python",
   "name": "python3"
  },
  "language_info": {
   "codemirror_mode": {
    "name": "ipython",
    "version": 3
   },
   "file_extension": ".py",
   "mimetype": "text/x-python",
   "name": "python",
   "nbconvert_exporter": "python",
   "pygments_lexer": "ipython3",
   "version": "3.6.10"
  }
 },
 "nbformat": 4,
 "nbformat_minor": 4
}
