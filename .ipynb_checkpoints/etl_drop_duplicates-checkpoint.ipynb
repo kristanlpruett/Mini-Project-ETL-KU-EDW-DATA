{
 "cells": [
  {
   "cell_type": "code",
   "execution_count": null,
   "metadata": {},
   "outputs": [],
   "source": [
    "import pandas as pd\n",
    "from sqlalchemy import create_engine"
   ]
  },
  {
   "cell_type": "code",
   "execution_count": null,
   "metadata": {},
   "outputs": [],
   "source": [
    "hotel_file = 'resources/Datafiniti_Hotel_Reviews.csv'\n",
    "michelin_one = 'resources/one-star-michelin-restaurants.csv'\n",
    "michelin_two = 'resources/two-stars-michelin-restaurants.csv'\n",
    "michelin_three = 'resources/three-stars-michelin-restaurants.csv'"
   ]
  },
  {
   "cell_type": "code",
   "execution_count": null,
   "metadata": {},
   "outputs": [],
   "source": [
    "hotel_data = pd.read_csv(hotel_file)\n",
    "hotel_data.head(1)\n",
    "\n",
    "hotel_df = pd.DataFrame(hotel_data)\n",
    "hotel_df = hotel_df[\n",
    "    [\n",
    "        'address',\n",
    "        'city',\n",
    "        'country',\n",
    "        'name',\n",
    "        'postalCode',\n",
    "        'province',\n",
    "        'reviews.rating',\n",
    "        'reviews.text',\n",
    "        'reviews.title','websites'\n",
    "    ]]\n",
    "hotel_df.head()\n",
    "\n",
    "hotel_means = pd.DataFrame(hotel_df.groupby('name')['reviews.rating'].mean())\n",
    "\n",
    "hotel_df = pd.merge(hotel_df, hotel_means, on='name')\n",
    "hotel_df.head()\n",
    "hotel_df = hotel_df.rename(columns={\n",
    "    'postalCode': 'postalcode',\n",
    "    'reviews.rating_x': 'user_rating',\n",
    "    'reviews.rating_y': 'average_rating',\n",
    "    'reviews.text': 'user_review',\n",
    "    'reviews.title': 'review_title'})\n",
    "hotel_df = hotel_df.loc[(hotel_df['province']=='CA')]\n",
    "hotel_df['average_rating'] = hotel_df['average_rating'].astype(float).map(\"{:.2f}\".format)\n",
    "hotel_df = hotel_df.reset_index(drop=True)\n",
    "hotel_df.head()\n"
   ]
  },
  {
   "cell_type": "code",
   "execution_count": null,
   "metadata": {},
   "outputs": [],
   "source": [
    "hotel_data = pd.read_csv(hotel_file)\n",
    "hotel_data.head(1)\n",
    "\n",
    "hotel_df2 = pd.DataFrame(hotel_data)\n",
    "hotel_df2 = hotel_df2[\n",
    "    [\n",
    "        'address',\n",
    "        'city',\n",
    "        'country',\n",
    "        'name',\n",
    "        'postalCode',\n",
    "        'province',\n",
    "        'reviews.rating',\n",
    "        'websites'\n",
    "    ]]\n",
    "hotel_df2.head()\n",
    "\n",
    "hotel_means = pd.DataFrame(hotel_df2.groupby('name')['reviews.rating'].mean())\n",
    "\n",
    "hotel_df2 = pd.merge(hotel_df2, hotel_means, on='name')\n",
    "hotel_df2.head()\n",
    "hotel_df2 = hotel_df2.rename(columns={\n",
    "    'postalCode': 'postalcode',\n",
    "    'reviews.rating_x': 'user_rating',\n",
    "    'reviews.rating_y': 'average_rating',})\n",
    "hotel_df2 = hotel_df2[[\n",
    "        'address',\n",
    "        'city',\n",
    "        'country',\n",
    "        'name',\n",
    "        'postalcode',\n",
    "        'province',\n",
    "        'websites',\n",
    "        'average_rating']]\n",
    "hotel_df2 = hotel_df2.loc[(hotel_df2['province']=='CA')]\n",
    "hotel_df2['average_rating'] = hotel_df2['average_rating'].astype(float).map(\"{:.2f}\".format)\n",
    "\n",
    "hotel_df2 = hotel_df2.drop_duplicates(subset=['name'])\n",
    "hotel_df2 = hotel_df2.reset_index(drop=True)\n",
    "hotel_df2.head()"
   ]
  },
  {
   "cell_type": "code",
   "execution_count": null,
   "metadata": {
    "scrolled": true
   },
   "outputs": [],
   "source": [
    "one_data = pd.read_csv(michelin_one).dropna()\n",
    "one_df = pd.DataFrame(one_data)\n",
    "one_df = one_df[\n",
    "    ['name', 'city', 'region', 'zipCode',\n",
    "       'cuisine', 'price', 'url']\n",
    "]\n",
    "one_df = one_df.rename(columns={'zipCode': 'postalcode'})\n",
    "one_df = one_df.loc[(one_df['region']=='California')]\n",
    "one_df.columns"
   ]
  },
  {
   "cell_type": "code",
   "execution_count": null,
   "metadata": {},
   "outputs": [],
   "source": [
    "two_data = pd.read_csv(michelin_two).dropna()\n",
    "two_df = pd.DataFrame(two_data)\n",
    "two_df = two_df[\n",
    "    ['name', 'city', 'region', 'zipCode',\n",
    "       'cuisine', 'price', 'url']\n",
    "]\n",
    "two_df = two_df.rename(columns={'zipCode': 'postalcode'})\n",
    "two_df = two_df.loc[(two_df['region']=='California')]\n",
    "len(two_df)"
   ]
  },
  {
   "cell_type": "code",
   "execution_count": null,
   "metadata": {},
   "outputs": [],
   "source": [
    "three_data = pd.read_csv(michelin_three).dropna()\n",
    "three_df = pd.DataFrame(three_data)\n",
    "three_df = three_df[\n",
    "    ['name', 'city', 'region', 'zipCode',\n",
    "       'cuisine', 'price', 'url']\n",
    "]\n",
    "three_df = three_df.rename(columns={'zipCode': 'postalcode'})\n",
    "three_df = three_df.loc[(three_df['region']=='California')]\n",
    "len(three_df)"
   ]
  },
  {
   "cell_type": "code",
   "execution_count": null,
   "metadata": {},
   "outputs": [],
   "source": [
    "connection_string = \"postgres:postgres@localhost:5432/project2_db\"\n",
    "engine = create_engine(f'postgresql://{connection_string}')"
   ]
  },
  {
   "cell_type": "code",
   "execution_count": null,
   "metadata": {},
   "outputs": [],
   "source": [
    "engine.table_names()"
   ]
  },
  {
   "cell_type": "code",
   "execution_count": null,
   "metadata": {},
   "outputs": [],
   "source": [
    "hotel_df.to_sql(name = 'hotels', con=engine, if_exists='append', index=False)"
   ]
  },
  {
   "cell_type": "code",
   "execution_count": null,
   "metadata": {},
   "outputs": [],
   "source": [
    "one_df.to_sql(name = 'one_star', con=engine, if_exists='append', index=False)"
   ]
  },
  {
   "cell_type": "code",
   "execution_count": null,
   "metadata": {},
   "outputs": [],
   "source": [
    "two_df.to_sql(name = 'two_star', con=engine, if_exists='append', index=False)"
   ]
  },
  {
   "cell_type": "code",
   "execution_count": null,
   "metadata": {},
   "outputs": [],
   "source": [
    "three_df.to_sql(name = 'three_star', con=engine, if_exists='append', index=False)"
   ]
  },
  {
   "cell_type": "code",
   "execution_count": null,
   "metadata": {},
   "outputs": [],
   "source": [
    "hotel_df2.to_sql(name = 'hotels_nodupes', con=engine, if_exists='append', index=False)"
   ]
  },
  {
   "cell_type": "code",
   "execution_count": null,
   "metadata": {},
   "outputs": [],
   "source": []
  }
 ],
 "metadata": {
  "kernelspec": {
   "display_name": "Python 3",
   "language": "python",
   "name": "python3"
  },
  "language_info": {
   "codemirror_mode": {
    "name": "ipython",
    "version": 3
   },
   "file_extension": ".py",
   "mimetype": "text/x-python",
   "name": "python",
   "nbconvert_exporter": "python",
   "pygments_lexer": "ipython3",
   "version": "3.6.10"
  }
 },
 "nbformat": 4,
 "nbformat_minor": 4
}
