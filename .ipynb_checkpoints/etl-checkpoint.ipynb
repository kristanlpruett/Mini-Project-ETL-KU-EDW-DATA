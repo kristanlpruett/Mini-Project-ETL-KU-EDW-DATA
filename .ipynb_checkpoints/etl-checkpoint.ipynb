{
 "cells": [
  {
   "cell_type": "code",
   "execution_count": 1,
   "metadata": {},
   "outputs": [],
   "source": [
    "import pandas as pd\n",
    "from sqlalchemy import create_engine"
   ]
  },
  {
   "cell_type": "code",
   "execution_count": 2,
   "metadata": {},
   "outputs": [],
   "source": [
    "hotel_file = 'resources/Datafiniti_Hotel_Reviews.csv'\n",
    "michelin_one = 'resources/one-star-michelin-restaurants.csv'\n",
    "michelin_two = 'resources/two-stars-michelin-restaurants.csv'\n",
    "michelin_three = 'resources/three-stars-michelin-restaurants.csv'"
   ]
  },
  {
   "cell_type": "code",
   "execution_count": 5,
   "metadata": {},
   "outputs": [
    {
     "data": {
      "text/html": [
       "<div>\n",
       "<style scoped>\n",
       "    .dataframe tbody tr th:only-of-type {\n",
       "        vertical-align: middle;\n",
       "    }\n",
       "\n",
       "    .dataframe tbody tr th {\n",
       "        vertical-align: top;\n",
       "    }\n",
       "\n",
       "    .dataframe thead th {\n",
       "        text-align: right;\n",
       "    }\n",
       "</style>\n",
       "<table border=\"1\" class=\"dataframe\">\n",
       "  <thead>\n",
       "    <tr style=\"text-align: right;\">\n",
       "      <th></th>\n",
       "      <th>address</th>\n",
       "      <th>city</th>\n",
       "      <th>country</th>\n",
       "      <th>name</th>\n",
       "      <th>postalcode</th>\n",
       "      <th>province</th>\n",
       "      <th>user_rating</th>\n",
       "      <th>user_review</th>\n",
       "      <th>review_title</th>\n",
       "      <th>websites</th>\n",
       "      <th>average_rating</th>\n",
       "    </tr>\n",
       "  </thead>\n",
       "  <tbody>\n",
       "    <tr>\n",
       "      <th>0</th>\n",
       "      <td>5921 Valencia Cir</td>\n",
       "      <td>Rancho Santa Fe</td>\n",
       "      <td>US</td>\n",
       "      <td>Rancho Valencia Resort Spa</td>\n",
       "      <td>92067</td>\n",
       "      <td>CA</td>\n",
       "      <td>5.00</td>\n",
       "      <td>Our experience at Rancho Valencia was absolute...</td>\n",
       "      <td>Best romantic vacation ever!!!!</td>\n",
       "      <td>http://www.ranchovalencia.com</td>\n",
       "      <td>5.000000</td>\n",
       "    </tr>\n",
       "    <tr>\n",
       "      <th>3</th>\n",
       "      <td>12 4th St</td>\n",
       "      <td>San Francisco</td>\n",
       "      <td>US</td>\n",
       "      <td>Hotel Zelos</td>\n",
       "      <td>94103</td>\n",
       "      <td>CA</td>\n",
       "      <td>5.00</td>\n",
       "      <td>The hotel is just one of many that are on this...</td>\n",
       "      <td>Convenient, cute and moderately comfrotable</td>\n",
       "      <td>http://www.hotelzelos.com</td>\n",
       "      <td>4.250000</td>\n",
       "    </tr>\n",
       "    <tr>\n",
       "      <th>7</th>\n",
       "      <td>5300 Grand del Mar Ct</td>\n",
       "      <td>San Diego</td>\n",
       "      <td>US</td>\n",
       "      <td>Fairmont Grand Del Mar</td>\n",
       "      <td>92130</td>\n",
       "      <td>CA</td>\n",
       "      <td>5.00</td>\n",
       "      <td>We hosted our annual Client Event at The Grand...</td>\n",
       "      <td>Hosted Client Event</td>\n",
       "      <td>http://www.fairmont.com/san-diego/</td>\n",
       "      <td>4.875000</td>\n",
       "    </tr>\n",
       "    <tr>\n",
       "      <th>23</th>\n",
       "      <td>328 East 1st Street</td>\n",
       "      <td>Los Angeles</td>\n",
       "      <td>US</td>\n",
       "      <td>Miyako Hotel Los Angeles</td>\n",
       "      <td>90012</td>\n",
       "      <td>CA</td>\n",
       "      <td>4.40</td>\n",
       "      <td>Bad: no need Karaoke club. Good: Clean and com...</td>\n",
       "      <td>So so</td>\n",
       "      <td>http://www.miyakoinn.com</td>\n",
       "      <td>4.467500</td>\n",
       "    </tr>\n",
       "    <tr>\n",
       "      <th>43</th>\n",
       "      <td>225 North Canon Drive</td>\n",
       "      <td>Beverly Hills</td>\n",
       "      <td>US</td>\n",
       "      <td>Montage Beverly Hills</td>\n",
       "      <td>90210</td>\n",
       "      <td>CA</td>\n",
       "      <td>3.25</td>\n",
       "      <td>Bad: Dropped in for advice on a good Japanese ...</td>\n",
       "      <td>Rather poor for the price of a nights stay.</td>\n",
       "      <td>http://www.montagehotels.com/beverlyhills</td>\n",
       "      <td>4.018182</td>\n",
       "    </tr>\n",
       "  </tbody>\n",
       "</table>\n",
       "</div>"
      ],
      "text/plain": [
       "                  address             city country  \\\n",
       "0       5921 Valencia Cir  Rancho Santa Fe      US   \n",
       "3               12 4th St    San Francisco      US   \n",
       "7   5300 Grand del Mar Ct        San Diego      US   \n",
       "23    328 East 1st Street      Los Angeles      US   \n",
       "43  225 North Canon Drive    Beverly Hills      US   \n",
       "\n",
       "                          name postalcode province  user_rating  \\\n",
       "0   Rancho Valencia Resort Spa      92067       CA         5.00   \n",
       "3                  Hotel Zelos      94103       CA         5.00   \n",
       "7       Fairmont Grand Del Mar      92130       CA         5.00   \n",
       "23    Miyako Hotel Los Angeles      90012       CA         4.40   \n",
       "43       Montage Beverly Hills      90210       CA         3.25   \n",
       "\n",
       "                                          user_review  \\\n",
       "0   Our experience at Rancho Valencia was absolute...   \n",
       "3   The hotel is just one of many that are on this...   \n",
       "7   We hosted our annual Client Event at The Grand...   \n",
       "23  Bad: no need Karaoke club. Good: Clean and com...   \n",
       "43  Bad: Dropped in for advice on a good Japanese ...   \n",
       "\n",
       "                                   review_title  \\\n",
       "0               Best romantic vacation ever!!!!   \n",
       "3   Convenient, cute and moderately comfrotable   \n",
       "7                           Hosted Client Event   \n",
       "23                                        So so   \n",
       "43  Rather poor for the price of a nights stay.   \n",
       "\n",
       "                                     websites  average_rating  \n",
       "0               http://www.ranchovalencia.com        5.000000  \n",
       "3                   http://www.hotelzelos.com        4.250000  \n",
       "7          http://www.fairmont.com/san-diego/        4.875000  \n",
       "23                   http://www.miyakoinn.com        4.467500  \n",
       "43  http://www.montagehotels.com/beverlyhills        4.018182  "
      ]
     },
     "execution_count": 5,
     "metadata": {},
     "output_type": "execute_result"
    }
   ],
   "source": [
    "hotel_data = pd.read_csv(hotel_file)\n",
    "hotel_data.head(1)\n",
    "\n",
    "hotel_df = pd.DataFrame(hotel_data)\n",
    "hotel_df = hotel_df[\n",
    "    [\n",
    "        'address',\n",
    "        'city',\n",
    "        'country',\n",
    "        'name',\n",
    "        'postalCode',\n",
    "        'province',\n",
    "        'reviews.rating',\n",
    "        'reviews.text',\n",
    "        'reviews.title','websites'\n",
    "    ]]\n",
    "hotel_df.head()\n",
    "\n",
    "hotel_means = pd.DataFrame(hotel_df.groupby('name')['reviews.rating'].mean())\n",
    "\n",
    "hotel_df = pd.merge(hotel_df, hotel_means, on='name')\n",
    "hotel_df.head()\n",
    "hotel_df = hotel_df.rename(columns={\n",
    "    'postalCode': 'postalcode',\n",
    "    'reviews.rating_x': 'user_rating',\n",
    "    'reviews.rating_y': 'average_rating',\n",
    "    'reviews.text': 'user_review',\n",
    "    'reviews.title': 'review_title'})\n",
    "hotel_df = hotel_df.loc[(hotel_df['province']=='CA')]\n",
    "\n",
    "\n",
    "hotel_df = hotel_df.drop_duplicates(subset=['name'])\n",
    "hotel_df = hotel_df.reset_index(drop=True)\n",
    "hotel_df.head()\n"
   ]
  },
  {
   "cell_type": "code",
   "execution_count": null,
   "metadata": {
    "scrolled": true
   },
   "outputs": [],
   "source": [
    "one_data = pd.read_csv(michelin_one).dropna()\n",
    "one_df = pd.DataFrame(one_data)\n",
    "one_df = one_df[\n",
    "    ['name', 'city', 'region', 'zipCode',\n",
    "       'cuisine', 'price', 'url']\n",
    "]\n",
    "one_df = one_df.rename(columns={'zipCode': 'postalcode'})\n",
    "one_df = one_df.loc[(one_df['region']=='California')]\n",
    "one_df.columns"
   ]
  },
  {
   "cell_type": "code",
   "execution_count": null,
   "metadata": {},
   "outputs": [],
   "source": [
    "two_data = pd.read_csv(michelin_two).dropna()\n",
    "two_df = pd.DataFrame(two_data)\n",
    "two_df = two_df[\n",
    "    ['name', 'city', 'region', 'zipCode',\n",
    "       'cuisine', 'price', 'url']\n",
    "]\n",
    "two_df = two_df.rename(columns={'zipCode': 'postalcode'})\n",
    "two_df = two_df.loc[(two_df['region']=='California')]\n",
    "len(two_df)"
   ]
  },
  {
   "cell_type": "code",
   "execution_count": null,
   "metadata": {},
   "outputs": [],
   "source": [
    "three_data = pd.read_csv(michelin_three).dropna()\n",
    "three_df = pd.DataFrame(three_data)\n",
    "three_df = three_df[\n",
    "    ['name', 'city', 'region', 'zipCode',\n",
    "       'cuisine', 'price', 'url']\n",
    "]\n",
    "three_df = three_df.rename(columns={'zipCode': 'postalcode'})\n",
    "three_df = three_df.loc[(three_df['region']=='California')]\n",
    "len(three_df)"
   ]
  },
  {
   "cell_type": "code",
   "execution_count": null,
   "metadata": {},
   "outputs": [],
   "source": [
    "connection_string = \"postgres:postgres@localhost:5432/project2_db\"\n",
    "engine = create_engine(f'postgresql://{connection_string}')"
   ]
  },
  {
   "cell_type": "code",
   "execution_count": null,
   "metadata": {},
   "outputs": [],
   "source": [
    "engine.table_names()"
   ]
  },
  {
   "cell_type": "code",
   "execution_count": null,
   "metadata": {},
   "outputs": [],
   "source": [
    "hotel_df.to_sql(name = 'hotels', con=engine, if_exists='append', index=False)"
   ]
  },
  {
   "cell_type": "code",
   "execution_count": null,
   "metadata": {},
   "outputs": [],
   "source": [
    "one_df.to_sql(name = 'one_star', con=engine, if_exists='append', index=False)"
   ]
  },
  {
   "cell_type": "code",
   "execution_count": null,
   "metadata": {},
   "outputs": [],
   "source": [
    "two_df.to_sql(name = 'two_star', con=engine, if_exists='append', index=False)"
   ]
  },
  {
   "cell_type": "code",
   "execution_count": null,
   "metadata": {},
   "outputs": [],
   "source": [
    "three_df.to_sql(name = 'three_star', con=engine, if_exists='append', index=False)"
   ]
  },
  {
   "cell_type": "code",
   "execution_count": null,
   "metadata": {},
   "outputs": [],
   "source": []
  }
 ],
 "metadata": {
  "kernelspec": {
   "display_name": "Python 3",
   "language": "python",
   "name": "python3"
  },
  "language_info": {
   "codemirror_mode": {
    "name": "ipython",
    "version": 3
   },
   "file_extension": ".py",
   "mimetype": "text/x-python",
   "name": "python",
   "nbconvert_exporter": "python",
   "pygments_lexer": "ipython3",
   "version": "3.6.10"
  }
 },
 "nbformat": 4,
 "nbformat_minor": 4
}
